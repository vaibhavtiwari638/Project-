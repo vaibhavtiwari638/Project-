{
 "cells": [
  {
   "cell_type": "code",
   "execution_count": 1,
   "id": "cd767aca-a8fd-42ae-8bc8-60f9c7e7d934",
   "metadata": {},
   "outputs": [],
   "source": [
    "import cv2\n"
   ]
  },
  {
   "cell_type": "code",
   "execution_count": 2,
   "id": "932ba6ae-b2e8-4174-a06c-b1e4d9856764",
   "metadata": {},
   "outputs": [
    {
     "data": {
      "text/plain": [
       "array([[111, 111, 113, ..., 189, 190, 190],\n",
       "       [110, 111, 112, ..., 183, 183, 183],\n",
       "       [110, 110, 112, ..., 175, 174, 174],\n",
       "       ...,\n",
       "       [109, 109, 110, ..., 155, 155, 155],\n",
       "       [109, 109, 110, ..., 155, 155, 155],\n",
       "       [109, 109, 110, ..., 155, 155, 155]], dtype=uint8)"
      ]
     },
     "execution_count": 2,
     "metadata": {},
     "output_type": "execute_result"
    }
   ],
   "source": [
    "cv2.imread(\"download.jpg\",0)\n"
   ]
  },
  {
   "cell_type": "code",
   "execution_count": null,
   "id": "686647f9-f214-4205-926b-864d1c58eb48",
   "metadata": {},
   "outputs": [],
   "source": []
  }
 ],
 "metadata": {
  "kernelspec": {
   "display_name": "Python 3 (ipykernel)",
   "language": "python",
   "name": "python3"
  },
  "language_info": {
   "codemirror_mode": {
    "name": "ipython",
    "version": 3
   },
   "file_extension": ".py",
   "mimetype": "text/x-python",
   "name": "python",
   "nbconvert_exporter": "python",
   "pygments_lexer": "ipython3",
   "version": "3.12.2"
  }
 },
 "nbformat": 4,
 "nbformat_minor": 5
}
